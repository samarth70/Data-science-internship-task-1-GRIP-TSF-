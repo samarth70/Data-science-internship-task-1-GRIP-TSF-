{
  "nbformat": 4,
  "nbformat_minor": 0,
  "metadata": {
    "colab": {
      "name": "Data Science Tasks 1(GRIP).ipynb",
      "provenance": [],
      "collapsed_sections": []
    },
    "kernelspec": {
      "name": "python3",
      "display_name": "Python 3"
    }
  },
  "cells": [
    {
      "cell_type": "markdown",
      "metadata": {
        "id": "U9-IhII-B6_u"
      },
      "source": [
        "#GRIP @ THE SPARKS FOUNDATION\n",
        "\n",
        "---\n",
        "\n",
        "\n",
        "\n",
        "##INTERNSHIP TASK-1\n",
        "PREDICT THE PERCENTAGE OF STUDENT BASED ON NO. OF STUDY HOURS USING SUPERVISED ML"
      ]
    },
    {
      "cell_type": "markdown",
      "metadata": {
        "id": "ij0MGAzLVMLt"
      },
      "source": [
        "##By Samarth Agarwal"
      ]
    },
    {
      "cell_type": "markdown",
      "metadata": {
        "id": "3psxGcHxVxtj"
      },
      "source": [
        "IMPORT LIBRARIES"
      ]
    },
    {
      "cell_type": "code",
      "metadata": {
        "id": "f8yYkqaZ6yaG"
      },
      "source": [
        "import pandas as pd\n",
        "import numpy as np\n",
        "import matplotlib.pyplot as plt"
      ],
      "execution_count": 1,
      "outputs": []
    },
    {
      "cell_type": "code",
      "metadata": {
        "id": "KFxms2sV7NQ8"
      },
      "source": [
        "df=pd.read_csv('http://bit.ly/w-data')"
      ],
      "execution_count": 2,
      "outputs": []
    },
    {
      "cell_type": "code",
      "metadata": {
        "colab": {
          "base_uri": "https://localhost:8080/",
          "height": 206
        },
        "id": "mR4Fz2ci72pT",
        "outputId": "5e48d689-864f-421a-f04c-ce08e426dee4"
      },
      "source": [
        "df.head() #Viewing the first five rows"
      ],
      "execution_count": 3,
      "outputs": [
        {
          "output_type": "execute_result",
          "data": {
            "text/html": [
              "<div>\n",
              "<style scoped>\n",
              "    .dataframe tbody tr th:only-of-type {\n",
              "        vertical-align: middle;\n",
              "    }\n",
              "\n",
              "    .dataframe tbody tr th {\n",
              "        vertical-align: top;\n",
              "    }\n",
              "\n",
              "    .dataframe thead th {\n",
              "        text-align: right;\n",
              "    }\n",
              "</style>\n",
              "<table border=\"1\" class=\"dataframe\">\n",
              "  <thead>\n",
              "    <tr style=\"text-align: right;\">\n",
              "      <th></th>\n",
              "      <th>Hours</th>\n",
              "      <th>Scores</th>\n",
              "    </tr>\n",
              "  </thead>\n",
              "  <tbody>\n",
              "    <tr>\n",
              "      <th>0</th>\n",
              "      <td>2.5</td>\n",
              "      <td>21</td>\n",
              "    </tr>\n",
              "    <tr>\n",
              "      <th>1</th>\n",
              "      <td>5.1</td>\n",
              "      <td>47</td>\n",
              "    </tr>\n",
              "    <tr>\n",
              "      <th>2</th>\n",
              "      <td>3.2</td>\n",
              "      <td>27</td>\n",
              "    </tr>\n",
              "    <tr>\n",
              "      <th>3</th>\n",
              "      <td>8.5</td>\n",
              "      <td>75</td>\n",
              "    </tr>\n",
              "    <tr>\n",
              "      <th>4</th>\n",
              "      <td>3.5</td>\n",
              "      <td>30</td>\n",
              "    </tr>\n",
              "  </tbody>\n",
              "</table>\n",
              "</div>"
            ],
            "text/plain": [
              "   Hours  Scores\n",
              "0    2.5      21\n",
              "1    5.1      47\n",
              "2    3.2      27\n",
              "3    8.5      75\n",
              "4    3.5      30"
            ]
          },
          "metadata": {
            "tags": []
          },
          "execution_count": 3
        }
      ]
    },
    {
      "cell_type": "code",
      "metadata": {
        "colab": {
          "base_uri": "https://localhost:8080/"
        },
        "id": "tFUL_QFP74Ah",
        "outputId": "a8a0381b-0e1f-4f2e-cccb-94495638e929"
      },
      "source": [
        "df.shape"
      ],
      "execution_count": 4,
      "outputs": [
        {
          "output_type": "execute_result",
          "data": {
            "text/plain": [
              "(25, 2)"
            ]
          },
          "metadata": {
            "tags": []
          },
          "execution_count": 4
        }
      ]
    },
    {
      "cell_type": "code",
      "metadata": {
        "id": "tHlRvDk49hZf"
      },
      "source": [
        "x=df.iloc[:,:-1].values    #HOURS\n",
        "\n",
        "y=df.iloc[:,1].values      #SCORES"
      ],
      "execution_count": 5,
      "outputs": []
    },
    {
      "cell_type": "code",
      "metadata": {
        "id": "iBC2D61Pf-eu"
      },
      "source": [
        ""
      ],
      "execution_count": null,
      "outputs": []
    },
    {
      "cell_type": "code",
      "metadata": {
        "id": "EVz0Lje1DupH"
      },
      "source": [
        "from sklearn.model_selection import train_test_split\n",
        "\n",
        "x_train,x_test,y_train,y_test=train_test_split(x,y,test_size=0.2,random_state=4,shuffle=True)"
      ],
      "execution_count": 23,
      "outputs": []
    },
    {
      "cell_type": "code",
      "metadata": {
        "id": "O0srxgk3f9nJ"
      },
      "source": [
        ""
      ],
      "execution_count": null,
      "outputs": []
    },
    {
      "cell_type": "code",
      "metadata": {
        "id": "-ErOFwxp8kte"
      },
      "source": [
        "from sklearn.linear_model import LinearRegression\n",
        "model=LinearRegression().fit(x_train,y_train)"
      ],
      "execution_count": 24,
      "outputs": []
    },
    {
      "cell_type": "code",
      "metadata": {
        "id": "gPfRlnHQf89x"
      },
      "source": [
        ""
      ],
      "execution_count": null,
      "outputs": []
    },
    {
      "cell_type": "code",
      "metadata": {
        "colab": {
          "base_uri": "https://localhost:8080/"
        },
        "id": "cLVNXyGq9Wj1",
        "outputId": "9bd96bbd-c64b-4faf-e70b-282d3e5bcd0a"
      },
      "source": [
        "test=[[9.25]]\n",
        "own_pred = model.predict(test)\n",
        "print(\"No of Hours = {}\".format(*test[0]))\n",
        "print(\"Predicted Score = {}\".format(own_pred[0]))"
      ],
      "execution_count": 25,
      "outputs": [
        {
          "output_type": "stream",
          "text": [
            "No of Hours = 9.25\n",
            "Predicted Score = 94.43733048038092\n"
          ],
          "name": "stdout"
        }
      ]
    },
    {
      "cell_type": "code",
      "metadata": {
        "id": "4PclkdXKf7_N"
      },
      "source": [
        ""
      ],
      "execution_count": null,
      "outputs": []
    },
    {
      "cell_type": "code",
      "metadata": {
        "colab": {
          "base_uri": "https://localhost:8080/"
        },
        "id": "l8cvCWJACDHC",
        "outputId": "c5c58943-c0fb-42fc-ffe1-7619b9ba59e2"
      },
      "source": [
        "print(f'the accuracy of training set is {model.score(x_train,y_train)}')\n",
        "print(f'the accuracy of test set is {model.score(x_test,y_test)}')"
      ],
      "execution_count": 26,
      "outputs": [
        {
          "output_type": "stream",
          "text": [
            "the accuracy of training set is 0.9644771934967826\n",
            "the accuracy of test set is 0.8345792140066828\n"
          ],
          "name": "stdout"
        }
      ]
    },
    {
      "cell_type": "code",
      "metadata": {
        "id": "QeznItuAf7KW"
      },
      "source": [
        ""
      ],
      "execution_count": null,
      "outputs": []
    },
    {
      "cell_type": "code",
      "metadata": {
        "colab": {
          "base_uri": "https://localhost:8080/",
          "height": 268
        },
        "id": "B_Yq7eCeIJgZ",
        "outputId": "7bda5447-0921-42ce-cf2e-f8abcb148578"
      },
      "source": [
        "# Plotting the regression line\n",
        "line = model.coef_*x_test+model.intercept_\n",
        "\n",
        "# Plotting for the test data\n",
        "plt.scatter(x_test, y_test)\n",
        "plt.plot(x_test, line);\n",
        "plt.show()"
      ],
      "execution_count": 27,
      "outputs": [
        {
          "output_type": "display_data",
          "data": {
            "image/png": "[encoded data removed]",
            "text/plain": [
              "<Figure size 432x288 with 1 Axes>"
            ]
          },
          "metadata": {
            "tags": [],
            "needs_background": "light"
          }
        }
      ]
    },
    {
      "cell_type": "code",
      "metadata": {
        "id": "pBXKdhh0f6G7"
      },
      "source": [
        ""
      ],
      "execution_count": null,
      "outputs": []
    },
    {
      "cell_type": "code",
      "metadata": {
        "colab": {
          "base_uri": "https://localhost:8080/"
        },
        "id": "c3Fo0kIIUbYW",
        "outputId": "1c56cb59-5cdc-421b-cbbc-3906e84a8cee"
      },
      "source": [
        "from sklearn import metrics\n",
        "y_pred=model.predict(x_test)\n",
        "print(f'Mean Absolute Error of the model: {metrics.mean_absolute_error(y_test,y_pred)}')\n",
        "print(f'R2 score fo the model: {metrics.r2_score(y_test,y_pred)}')"
      ],
      "execution_count": 28,
      "outputs": [
        {
          "output_type": "stream",
          "text": [
            "Mean Absolute Error of the model: 6.8866403471761775\n",
            "R2 score fo the model: 0.8345792140066828\n"
          ],
          "name": "stdout"
        }
      ]
    },
    {
      "cell_type": "code",
      "metadata": {
        "id": "mF_jgzltWoUR"
      },
      "source": [
        ""
      ],
      "execution_count": null,
      "outputs": []
    }
  ]
}